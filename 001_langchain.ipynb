{
  "nbformat": 4,
  "nbformat_minor": 0,
  "metadata": {
    "colab": {
      "provenance": [],
      "gpuType": "T4",
      "authorship_tag": "ABX9TyNPYU4EJ+H3vTU3k/CRDigS",
      "include_colab_link": true
    },
    "kernelspec": {
      "name": "python3",
      "display_name": "Python 3"
    },
    "language_info": {
      "name": "python"
    },
    "accelerator": "GPU"
  },
  "cells": [
    {
      "cell_type": "markdown",
      "metadata": {
        "id": "view-in-github",
        "colab_type": "text"
      },
      "source": [
        "<a href=\"https://colab.research.google.com/github/dev2073/langchain/blob/main/001_langchain.ipynb\" target=\"_parent\"><img src=\"https://colab.research.google.com/assets/colab-badge.svg\" alt=\"Open In Colab\"/></a>"
      ]
    },
    {
      "cell_type": "code",
      "execution_count": null,
      "metadata": {
        "colab": {
          "base_uri": "https://localhost:8080/"
        },
        "id": "lGVHV1ENwAAi",
        "outputId": "8bae82c9-a448-4c42-af1b-b8eef02364c5"
      },
      "outputs": [
        {
          "output_type": "stream",
          "name": "stderr",
          "text": [
            "Device set to use cuda:0\n",
            "Setting `pad_token_id` to `eos_token_id`:50256 for open-end generation.\n"
          ]
        },
        {
          "output_type": "stream",
          "name": "stdout",
          "text": [
            "Write a poem about a lonely robot.\n",
            "\n",
            "If your robot has a name that's common to all the other robots in the house, then you're talking about how the same type of robot that you describe uses the same kind of robot in every\n"
          ]
        }
      ],
      "source": [
        "from transformers import pipeline\n",
        "from google.colab import userdata\n",
        "import os\n",
        "\n",
        "# Retrieve the Hugging Face token from Google Colab secrets\n",
        "hf_token = userdata.get('HF_TOKEN')\n",
        "\n",
        "os.environ[\"HUGGINGFACE_API_TOKEN\"] = hf_token\n",
        "\n",
        "# Load a pre-trained language model with the Hugging Face token\n",
        "nlp = pipeline(\"text-generation\", model=\"gpt2\")\n",
        "\n",
        "# Generate text\n",
        "prompt = \"Write a poem about a lonely robot.\"\n",
        "generated_text = nlp(prompt)[0]['generated_text']\n",
        "\n",
        "print(generated_text)"
      ]
    }
  ]
}